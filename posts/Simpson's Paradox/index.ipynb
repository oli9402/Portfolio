{
  "cells": [
    {
      "cell_type": "raw",
      "metadata": {},
      "source": [
        "---\n",
        "title: \"Simpson's Paradox\"\n",
        "author: \"Oliver Zingg\"\n",
        "date: \"Juni 2023\"\n",
        "categories: [Mixed-Effects Model, Statistics, Random Effects]\n",
        "image: \"MA.jpg\"\n",
        "---"
      ],
      "id": "f2379b7b"
    },
    {
      "cell_type": "markdown",
      "metadata": {},
      "source": [
        "# Presentation\n",
        "\n",
        "\n",
        "```{html}\n",
        "<iframe src=\"_presi.html\" width=\"800\" height=\"400\"></iframe>\n"
      ],
      "id": "b1c5b5b0"
    }
  ],
  "metadata": {
    "kernelspec": {
      "display_name": "Python 3",
      "language": "python",
      "name": "python3"
    }
  },
  "nbformat": 4,
  "nbformat_minor": 5
}