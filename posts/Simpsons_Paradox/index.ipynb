{
  "cells": [
    {
      "cell_type": "raw",
      "metadata": {},
      "source": [
        "---\n",
        "title: \"Simpson's Paradox\"\n",
        "author: \"Oliver Zingg\" \n",
        "date: \"5.09.2023\"\n",
        "categories: [Linear Mixed Effects, Statistics, Random Effects]\n",
        "image: \"\"\n",
        "---"
      ],
      "id": "6c392f74"
    },
    {
      "cell_type": "markdown",
      "metadata": {},
      "source": [
        "## Simpson's Paradox\n",
        "\n",
        "Simpson's Paradox bezeichnet ein statistische Phänomen, in der die Daten eine hierarchisch angeordnete Struktur aufweisen. Die Analyse der Daten kann deshalb auf unterschiedliche Ebenen dieser Sturktur gemacht werden und einen Einfluss auf das Resultat haben. Teilweise kann wird dadurch die Interpretation der Forschungsfrage beeinflusst je nach untersuchten Ebenen. Solche Beispiele werden oft verwendet um die Vorteile von Linear Mixed Effects Model im Vergleich zur einfacher linearen Regression darzustellen. \n",
        "\n",
        "## Hierarchische Datenstruktur\n",
        "\n",
        "\n",
        "```{tikz complete-pooling, engine.opts=font_opts}\n",
        "#| echo: false\n",
        "#| fig-cap: \"Complete pooling\"\n",
        "#| fig-align: center\n",
        "#| fig-ext: svg\n",
        "#| out-width: 100%\n",
        "\\usetikzlibrary{positioning}\n",
        "\\usetikzlibrary{shapes.geometric}\n",
        "\\begin{tikzpicture}[{every node/.append style}=draw]\n",
        "  \\node [rectangle] (pop) at (0, 4) {Population};\n",
        "  \\node [ellipse] (y1) at (-5, 2.5) {$y_1$};\n",
        "  \\node [ellipse] (y2) at (-3, 2.5) {$y_2$};\n",
        "  \\node [ellipse] (y3) at (-1, 2.5) {$y_3$};\n",
        "  \\node [ellipse] (y4) at (1, 2.5) {$y_4$};\n",
        "  \\node [ellipse, draw=white] (ydots) at (3, 2.5) {$\\dots$};\n",
        "  \\node [ellipse] (yn) at (5, 2.5) {$y_n$};\n",
        "  \\draw [-latex] (pop) to (y1);\n",
        "  \\draw [-latex] (pop) to (y2);\n",
        "  \\draw [-latex] (pop) to (y3);\n",
        "  \\draw [-latex] (pop) to (y4);\n",
        "  \\draw [-latex, dashed] (pop) to (ydots);\n",
        "  \\draw [-latex] (pop) to (yn);\n",
        "\\end{tikzpicture}\n",
        "```"
      ],
      "id": "28cce922"
    }
  ],
  "metadata": {
    "kernelspec": {
      "display_name": "Python 3",
      "language": "python",
      "name": "python3"
    }
  },
  "nbformat": 4,
  "nbformat_minor": 5
}